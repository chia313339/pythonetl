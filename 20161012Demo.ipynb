{
 "cells": [
  {
   "cell_type": "code",
   "execution_count": 5,
   "metadata": {
    "collapsed": true
   },
   "outputs": [],
   "source": [
    "import requests\n",
    "from bs4 import BeautifulSoup\n",
    "from datetime import datetime\n",
    "import re"
   ]
  },
  {
   "cell_type": "code",
   "execution_count": 6,
   "metadata": {
    "collapsed": false
   },
   "outputs": [],
   "source": [
    "def pageDetail(detailurl):\n",
    "    # 抓取內文頁面\n",
    "    res = requests.get(detailurl)\n",
    "    soup = BeautifulSoup(res.text, 'html.parser')\n",
    "\n",
    "    #標題\n",
    "    title   = soup.select('#h1')[0].text\n",
    "\n",
    "    #摘要\n",
    "    summary = soup.select('#summary')[0].text\n",
    "\n",
    "    #時間\n",
    "    time    = soup.select('.gggs time')[0].text\n",
    "    dt      = datetime.strptime(time, '%Y年%m月%d日%H:%M')\n",
    "\n",
    "    #人氣\n",
    "    clicked      = 0\n",
    "    clicked_text = soup.select('.clicked')[0].text\n",
    "    m            = re.search('.+\\((\\d+)\\)', clicked_text) \n",
    "    if m:\n",
    "        clicked  = int(m.group(1))\n",
    "    \n",
    "    return {'title':title, 'summary':summary, 'dt':dt, 'clicked':clicked}"
   ]
  },
  {
   "cell_type": "code",
   "execution_count": 7,
   "metadata": {
    "collapsed": false
   },
   "outputs": [
    {
     "data": {
      "text/plain": [
       "{'clicked': 1548,\n",
       " 'dt': datetime.datetime(2016, 10, 12, 9, 37),\n",
       " 'summary': '三星昨宣布永久停產Note7，股價繼昨日收盤暴跌8.04%，今早盤一度續跌3.3%至149.40萬韓元，3個交易日累計下殺逾12%。昨美股3大指數全面收黑，跌幅均超過1%，其中道瓊工業指數跌逾200點或1.1%，收18128.66點。美國聯準會（Fed）可能升息、在美股財報季打頭陣的美鋁（ALCOA）發布的財報不如預期，以及三星陷入麻煩，均令投資人緊張。惟三星死對頭蘋果周二股價繼續逆勢昂揚，收漲0.22%至每股116.30美元，再創今年收盤新高，盤中最多勁揚2.3%。據《深圳商報》報導，蘋果執行長庫克在深圳會見地方官員時稱，將在深圳設立研發中心。庫克表示蘋果在深圳有10萬人致力於軟體開發，將繼續擴展在中國的研發投入。之前《財新》也報導，蘋果投資3億元人民幣，在北京中關村設立在中國首座研發中心。（于倩若／綜合外電報導）\\xa0',\n",
       " 'title': 'Note7永久停產\\u3000三星早盤再跌3.3%'}"
      ]
     },
     "execution_count": 7,
     "metadata": {},
     "output_type": "execute_result"
    }
   ],
   "source": [
    "url = 'http://www.appledaily.com.tw/realtimenews/article/finance/20161012/966376/Note7%E6%B0%B8%E4%B9%85%E5%81%9C%E7%94%A2%E3%80%80%E4%B8%89%E6%98%9F%E6%97%A9%E7%9B%A4%E5%86%8D%E8%B7%8C3.3'\n",
    "pageDetail(url)"
   ]
  },
  {
   "cell_type": "code",
   "execution_count": 8,
   "metadata": {
    "collapsed": false
   },
   "outputs": [
    {
     "data": {
      "text/plain": [
       "'Note7永久停產\\u3000三星早盤再跌3.3%'"
      ]
     },
     "execution_count": 8,
     "metadata": {},
     "output_type": "execute_result"
    }
   ],
   "source": [
    "url = 'http://www.appledaily.com.tw/realtimenews/article/finance/20161012/966376/Note7%E6%B0%B8%E4%B9%85%E5%81%9C%E7%94%A2%E3%80%80%E4%B8%89%E6%98%9F%E6%97%A9%E7%9B%A4%E5%86%8D%E8%B7%8C3.3'\n",
    "detail = pageDetail(url)\n",
    "detail['title']"
   ]
  },
  {
   "cell_type": "markdown",
   "metadata": {},
   "source": [
    "## 字典"
   ]
  },
  {
   "cell_type": "code",
   "execution_count": 9,
   "metadata": {
    "collapsed": false
   },
   "outputs": [
    {
     "name": "stdout",
     "output_type": "stream",
     "text": [
      "{'b': 'yes', 'c': 0.98, 'a': 100}\n",
      "dict_keys(['b', 'c', 'a'])\n",
      "dict_values(['yes', 0.98, 100])\n"
     ]
    }
   ],
   "source": [
    "#declare dictionary\n",
    "dic={'a':100,'b':\"yes\",'c':0.98}\n",
    "print(dic)\n",
    "\n",
    "#get keys in dictionary\n",
    "print(dic.keys())\n",
    "\n",
    "#get values in dictionary\n",
    "print(dic.values())\n"
   ]
  },
  {
   "cell_type": "code",
   "execution_count": 10,
   "metadata": {
    "collapsed": false
   },
   "outputs": [
    {
     "name": "stdout",
     "output_type": "stream",
     "text": [
      "100\n",
      "100\n"
     ]
    }
   ],
   "source": [
    "#get value of given key\n",
    "print(dic['a'])\n",
    "\n",
    "#get value of given key\n",
    "print(dic.get('a'))"
   ]
  },
  {
   "cell_type": "code",
   "execution_count": 11,
   "metadata": {
    "collapsed": false
   },
   "outputs": [
    {
     "ename": "KeyError",
     "evalue": "'d'",
     "output_type": "error",
     "traceback": [
      "\u001b[1;31m---------------------------------------------------------------------------\u001b[0m",
      "\u001b[1;31mKeyError\u001b[0m                                  Traceback (most recent call last)",
      "\u001b[1;32m<ipython-input-11-c9812a5744e2>\u001b[0m in \u001b[0;36m<module>\u001b[1;34m()\u001b[0m\n\u001b[0;32m      1\u001b[0m \u001b[1;31m#get value of given key\u001b[0m\u001b[1;33m\u001b[0m\u001b[1;33m\u001b[0m\u001b[0m\n\u001b[1;32m----> 2\u001b[1;33m \u001b[0mprint\u001b[0m\u001b[1;33m(\u001b[0m\u001b[0mdic\u001b[0m\u001b[1;33m[\u001b[0m\u001b[1;34m'd'\u001b[0m\u001b[1;33m]\u001b[0m\u001b[1;33m)\u001b[0m\u001b[1;33m\u001b[0m\u001b[0m\n\u001b[0m",
      "\u001b[1;31mKeyError\u001b[0m: 'd'"
     ]
    }
   ],
   "source": [
    "#get value of given key\n",
    "print(dic['d'])"
   ]
  },
  {
   "cell_type": "code",
   "execution_count": null,
   "metadata": {
    "collapsed": false
   },
   "outputs": [],
   "source": [
    "#get value of given key\n",
    "print(dic.get('d'))\n",
    "\n",
    "print(dic.get('d', 'qoo'))"
   ]
  },
  {
   "cell_type": "code",
   "execution_count": null,
   "metadata": {
    "collapsed": false
   },
   "outputs": [],
   "source": [
    "#add entry into dictionary\n",
    "dic['d']='new'\n",
    "print(dic)"
   ]
  },
  {
   "cell_type": "code",
   "execution_count": null,
   "metadata": {
    "collapsed": false
   },
   "outputs": [],
   "source": [
    "#add entry into dictionary\n",
    "dic.update({'d':999,'e':123, 'f':456})\n",
    "print(dic)"
   ]
  },
  {
   "cell_type": "code",
   "execution_count": null,
   "metadata": {
    "collapsed": false
   },
   "outputs": [],
   "source": [
    "# iter the dictionary\n",
    "for key in dic:\n",
    "    print(key,dic[key])"
   ]
  },
  {
   "cell_type": "markdown",
   "metadata": {},
   "source": [
    "## 取得頁面連結片段"
   ]
  },
  {
   "cell_type": "code",
   "execution_count": null,
   "metadata": {
    "collapsed": false
   },
   "outputs": [],
   "source": [
    "domain = 'http://www.appledaily.com.tw'\n",
    "res  = requests.get('http://www.appledaily.com.tw/realtimenews/section/new/')\n",
    "soup = BeautifulSoup(res.text, 'html.parser')\n",
    "for rtddt in soup.select('li.rtddt'):\n",
    "    if domain not in rtddt.select('a')[0]['href']:\n",
    "        print(domain + rtddt.select('a')[0]['href'])\n",
    "    else:\n",
    "        print(rtddt.select('a')[0]['href']) "
   ]
  },
  {
   "cell_type": "markdown",
   "metadata": {},
   "source": [
    "## 產生分頁片段"
   ]
  },
  {
   "cell_type": "code",
   "execution_count": null,
   "metadata": {
    "collapsed": false
   },
   "outputs": [],
   "source": [
    "newsurl = 'http://www.appledaily.com.tw/realtimenews/section/new/{}'\n",
    "# for(int i = 1; i < 10 ; i++)\n",
    "for i in range(1,10): \n",
    "    print(newsurl.format(i))"
   ]
  },
  {
   "cell_type": "markdown",
   "metadata": {},
   "source": [
    "## 取得多頁蘋果新聞"
   ]
  },
  {
   "cell_type": "code",
   "execution_count": 13,
   "metadata": {
    "collapsed": false
   },
   "outputs": [
    {
     "name": "stdout",
     "output_type": "stream",
     "text": [
      "1\n",
      "2\n"
     ]
    }
   ],
   "source": [
    "domain  = 'http://www.appledaily.com.tw'\n",
    "newsurl = 'http://www.appledaily.com.tw/realtimenews/section/new/{}'\n",
    "\n",
    "newsary = []\n",
    "\n",
    "# 產生分頁連結\n",
    "for page in range(1,3): \n",
    "    print(page)\n",
    "    \n",
    "    #取得分頁HTML\n",
    "    section = requests.get(newsurl.format(page))\n",
    "    soup    = BeautifulSoup(section.text, 'html.parser')\n",
    "\n",
    "    #取得每分頁中的內文連結\n",
    "    for rtddt in soup.select('li.rtddt'):\n",
    "        try:\n",
    "            # 使用字典整理資料\n",
    "            dic  = {}\n",
    "\n",
    "            #取得類別\n",
    "            category = rtddt.select('h2')[0].text\n",
    "\n",
    "            # 取得聯結\n",
    "            link     = rtddt.select('a')[0]['href']\n",
    "            #檢視連結中有沒有包含domain\n",
    "            if domain not in link:\n",
    "                link = domain + link\n",
    "\n",
    "            #增添link 與category\n",
    "            dic['link'] = link\n",
    "            dic['category'] = category\n",
    "\n",
    "            # 呼叫pageDetail 函式更新內文內容\n",
    "            dic.update(pageDetail(dic['link']))\n",
    "\n",
    "            #將字典加入list 之中\n",
    "            newsary.append(dic)\n",
    "        except:\n",
    "            pass\n",
    "            "
   ]
  },
  {
   "cell_type": "markdown",
   "metadata": {},
   "source": [
    "## 將資料整理成DataFrame"
   ]
  },
  {
   "cell_type": "code",
   "execution_count": 25,
   "metadata": {
    "collapsed": false
   },
   "outputs": [
    {
     "data": {
      "text/html": [
       "<div>\n",
       "<table border=\"1\" class=\"dataframe\">\n",
       "  <thead>\n",
       "    <tr style=\"text-align: right;\">\n",
       "      <th></th>\n",
       "      <th>category</th>\n",
       "      <th>clicked</th>\n",
       "      <th>dt</th>\n",
       "      <th>link</th>\n",
       "      <th>summary</th>\n",
       "      <th>title</th>\n",
       "    </tr>\n",
       "  </thead>\n",
       "  <tbody>\n",
       "    <tr>\n",
       "      <th>0</th>\n",
       "      <td>社會</td>\n",
       "      <td>0</td>\n",
       "      <td>2016-10-12 11:39:00</td>\n",
       "      <td>http://www.appledaily.com.tw/realtimenews/arti...</td>\n",
       "      <td>法網難逃！新北市八里區一名毒品通緝犯，上週六騎在外閒晃，見巡邏警本欲逃跑，卻遭警追前攔下盤查...</td>\n",
       "      <td>遇警盤查催油落跑　騎士見義勇為撞阻逮犯</td>\n",
       "    </tr>\n",
       "    <tr>\n",
       "      <th>1</th>\n",
       "      <td>國際</td>\n",
       "      <td>0</td>\n",
       "      <td>2016-10-12 11:39:00</td>\n",
       "      <td>http://www.appledaily.com.tw/realtimenews/arti...</td>\n",
       "      <td>共和黨總統候選人川普11年前的低級言論在全美發酵，掀起一陣輿論撻伐，連同黨黨內大老萊恩都表明...</td>\n",
       "      <td>又秀下限？川普新廣告攻擊希拉蕊健康惹議</td>\n",
       "    </tr>\n",
       "    <tr>\n",
       "      <th>2</th>\n",
       "      <td>體育</td>\n",
       "      <td>0</td>\n",
       "      <td>2016-10-12 11:38:00</td>\n",
       "      <td>http://www.appledaily.com.tw/realtimenews/arti...</td>\n",
       "      <td>76人3年級射手史陶斯卡斯( Nik Stauskas)，今年9月起再度尋求運動心理師的幫助...</td>\n",
       "      <td>76人史陶斯卡斯看心理師　強化外界負評忍受力</td>\n",
       "    </tr>\n",
       "    <tr>\n",
       "      <th>3</th>\n",
       "      <td>體育</td>\n",
       "      <td>0</td>\n",
       "      <td>2016-10-12 11:36:00</td>\n",
       "      <td>http://www.appledaily.com.tw/realtimenews/arti...</td>\n",
       "      <td>為什麼選擇「洗腳」表達孝親？全國體育總會會長張朝國說：「當初是因緣際會，有位修道的大師向我提...</td>\n",
       "      <td>洗腳體會長輩艱辛路　國外也有類似儀式</td>\n",
       "    </tr>\n",
       "    <tr>\n",
       "      <th>4</th>\n",
       "      <td>社會</td>\n",
       "      <td>137</td>\n",
       "      <td>2016-10-12 11:35:00</td>\n",
       "      <td>http://www.appledaily.com.tw/realtimenews/arti...</td>\n",
       "      <td>新政府上台後，行政院將轟動一時的太陽花學運及323佔領行政院被起訴的126人撤告，國民黨籍立...</td>\n",
       "      <td>林全撤告太陽花學運　遭陳學聖控圖利</td>\n",
       "    </tr>\n",
       "  </tbody>\n",
       "</table>\n",
       "</div>"
      ],
      "text/plain": [
       "  category  clicked                  dt  \\\n",
       "0       社會        0 2016-10-12 11:39:00   \n",
       "1       國際        0 2016-10-12 11:39:00   \n",
       "2       體育        0 2016-10-12 11:38:00   \n",
       "3       體育        0 2016-10-12 11:36:00   \n",
       "4       社會      137 2016-10-12 11:35:00   \n",
       "\n",
       "                                                link  \\\n",
       "0  http://www.appledaily.com.tw/realtimenews/arti...   \n",
       "1  http://www.appledaily.com.tw/realtimenews/arti...   \n",
       "2  http://www.appledaily.com.tw/realtimenews/arti...   \n",
       "3  http://www.appledaily.com.tw/realtimenews/arti...   \n",
       "4  http://www.appledaily.com.tw/realtimenews/arti...   \n",
       "\n",
       "                                             summary                   title  \n",
       "0  法網難逃！新北市八里區一名毒品通緝犯，上週六騎在外閒晃，見巡邏警本欲逃跑，卻遭警追前攔下盤查...     遇警盤查催油落跑　騎士見義勇為撞阻逮犯  \n",
       "1  共和黨總統候選人川普11年前的低級言論在全美發酵，掀起一陣輿論撻伐，連同黨黨內大老萊恩都表明...     又秀下限？川普新廣告攻擊希拉蕊健康惹議  \n",
       "2  76人3年級射手史陶斯卡斯( Nik Stauskas)，今年9月起再度尋求運動心理師的幫助...  76人史陶斯卡斯看心理師　強化外界負評忍受力  \n",
       "3  為什麼選擇「洗腳」表達孝親？全國體育總會會長張朝國說：「當初是因緣際會，有位修道的大師向我提...      洗腳體會長輩艱辛路　國外也有類似儀式  \n",
       "4  新政府上台後，行政院將轟動一時的太陽花學運及323佔領行政院被起訴的126人撤告，國民黨籍立...       林全撤告太陽花學運　遭陳學聖控圖利  "
      ]
     },
     "execution_count": 25,
     "metadata": {},
     "output_type": "execute_result"
    }
   ],
   "source": [
    "import pandas\n",
    "newsdf = pandas.DataFrame(newsary)\n",
    "newsdf.head()"
   ]
  },
  {
   "cell_type": "markdown",
   "metadata": {},
   "source": [
    "## 取得敘述性統計"
   ]
  },
  {
   "cell_type": "code",
   "execution_count": 26,
   "metadata": {
    "collapsed": false
   },
   "outputs": [
    {
     "data": {
      "text/html": [
       "<div>\n",
       "<table border=\"1\" class=\"dataframe\">\n",
       "  <thead>\n",
       "    <tr style=\"text-align: right;\">\n",
       "      <th></th>\n",
       "      <th>clicked</th>\n",
       "    </tr>\n",
       "  </thead>\n",
       "  <tbody>\n",
       "    <tr>\n",
       "      <th>count</th>\n",
       "      <td>60.000000</td>\n",
       "    </tr>\n",
       "    <tr>\n",
       "      <th>mean</th>\n",
       "      <td>15198.350000</td>\n",
       "    </tr>\n",
       "    <tr>\n",
       "      <th>std</th>\n",
       "      <td>57761.364689</td>\n",
       "    </tr>\n",
       "    <tr>\n",
       "      <th>min</th>\n",
       "      <td>0.000000</td>\n",
       "    </tr>\n",
       "    <tr>\n",
       "      <th>25%</th>\n",
       "      <td>282.000000</td>\n",
       "    </tr>\n",
       "    <tr>\n",
       "      <th>50%</th>\n",
       "      <td>771.500000</td>\n",
       "    </tr>\n",
       "    <tr>\n",
       "      <th>75%</th>\n",
       "      <td>1946.000000</td>\n",
       "    </tr>\n",
       "    <tr>\n",
       "      <th>max</th>\n",
       "      <td>384651.000000</td>\n",
       "    </tr>\n",
       "  </tbody>\n",
       "</table>\n",
       "</div>"
      ],
      "text/plain": [
       "             clicked\n",
       "count      60.000000\n",
       "mean    15198.350000\n",
       "std     57761.364689\n",
       "min         0.000000\n",
       "25%       282.000000\n",
       "50%       771.500000\n",
       "75%      1946.000000\n",
       "max    384651.000000"
      ]
     },
     "execution_count": 26,
     "metadata": {},
     "output_type": "execute_result"
    }
   ],
   "source": [
    "newsdf.describe()"
   ]
  },
  {
   "cell_type": "code",
   "execution_count": 27,
   "metadata": {
    "collapsed": false
   },
   "outputs": [
    {
     "data": {
      "text/html": [
       "<div>\n",
       "<table border=\"1\" class=\"dataframe\">\n",
       "  <thead>\n",
       "    <tr style=\"text-align: right;\">\n",
       "      <th></th>\n",
       "      <th>title</th>\n",
       "      <th>clicked</th>\n",
       "    </tr>\n",
       "  </thead>\n",
       "  <tbody>\n",
       "    <tr>\n",
       "      <th>56</th>\n",
       "      <td>【荒唐片】景文迎新比酒店還狂　校方將送性平會</td>\n",
       "      <td>384651</td>\n",
       "    </tr>\n",
       "    <tr>\n",
       "      <th>30</th>\n",
       "      <td>【狗仔偷拍片】黑人風神開林寶堅尼　卻做了這事馬上道歉</td>\n",
       "      <td>163242</td>\n",
       "    </tr>\n",
       "    <tr>\n",
       "      <th>29</th>\n",
       "      <td>【狗仔偷拍片】黑人風神開林寶堅尼　卻做了這事馬上道歉</td>\n",
       "      <td>163242</td>\n",
       "    </tr>\n",
       "    <tr>\n",
       "      <th>38</th>\n",
       "      <td>【怒吃片】好市多這一腿好驚人　半年狂賣500萬支</td>\n",
       "      <td>70378</td>\n",
       "    </tr>\n",
       "    <tr>\n",
       "      <th>24</th>\n",
       "      <td>陳彥伯偷吃骨感妹後　元配公開這樣做</td>\n",
       "      <td>65661</td>\n",
       "    </tr>\n",
       "  </tbody>\n",
       "</table>\n",
       "</div>"
      ],
      "text/plain": [
       "                         title  clicked\n",
       "56      【荒唐片】景文迎新比酒店還狂　校方將送性平會   384651\n",
       "30  【狗仔偷拍片】黑人風神開林寶堅尼　卻做了這事馬上道歉   163242\n",
       "29  【狗仔偷拍片】黑人風神開林寶堅尼　卻做了這事馬上道歉   163242\n",
       "38    【怒吃片】好市多這一腿好驚人　半年狂賣500萬支    70378\n",
       "24           陳彥伯偷吃骨感妹後　元配公開這樣做    65661"
      ]
     },
     "execution_count": 27,
     "metadata": {},
     "output_type": "execute_result"
    }
   ],
   "source": [
    "# select title, clicked from newsdf order by clicked desc limit 5\n",
    "newsdf.sort_values('clicked', ascending=False)[['title', 'clicked']].head()"
   ]
  },
  {
   "cell_type": "code",
   "execution_count": 28,
   "metadata": {
    "collapsed": false
   },
   "outputs": [
    {
     "data": {
      "text/plain": [
       "category\n",
       "副刊     70378\n",
       "國際      3388\n",
       "地產      1187\n",
       "娛樂    163242\n",
       "政治      4858\n",
       "時尚       107\n",
       "生活     65661\n",
       "社會    384651\n",
       "財經      7985\n",
       "體育       800\n",
       "Name: clicked, dtype: int64"
      ]
     },
     "execution_count": 28,
     "metadata": {},
     "output_type": "execute_result"
    }
   ],
   "source": [
    "# select category, max(clicked) from newsdf group by category\n",
    "newsdf.groupby('category')['clicked'].max()"
   ]
  },
  {
   "cell_type": "code",
   "execution_count": 29,
   "metadata": {
    "collapsed": false
   },
   "outputs": [
    {
     "data": {
      "text/html": [
       "<div>\n",
       "<table border=\"1\" class=\"dataframe\">\n",
       "  <thead>\n",
       "    <tr style=\"text-align: right;\">\n",
       "      <th></th>\n",
       "      <th>category</th>\n",
       "      <th>clicked</th>\n",
       "      <th>title</th>\n",
       "    </tr>\n",
       "  </thead>\n",
       "  <tbody>\n",
       "    <tr>\n",
       "      <th>5</th>\n",
       "      <td>時尚</td>\n",
       "      <td>107</td>\n",
       "      <td>懷胎6月能愛美嗎？ 勇樣老婆示範YSL彩妝</td>\n",
       "    </tr>\n",
       "    <tr>\n",
       "      <th>16</th>\n",
       "      <td>財經</td>\n",
       "      <td>7985</td>\n",
       "      <td>【看片已羨慕】升官還給1個月假　這家公司員工好幸福</td>\n",
       "    </tr>\n",
       "    <tr>\n",
       "      <th>24</th>\n",
       "      <td>生活</td>\n",
       "      <td>65661</td>\n",
       "      <td>陳彥伯偷吃骨感妹後　元配公開這樣做</td>\n",
       "    </tr>\n",
       "    <tr>\n",
       "      <th>29</th>\n",
       "      <td>娛樂</td>\n",
       "      <td>163242</td>\n",
       "      <td>【狗仔偷拍片】黑人風神開林寶堅尼　卻做了這事馬上道歉</td>\n",
       "    </tr>\n",
       "    <tr>\n",
       "      <th>30</th>\n",
       "      <td>娛樂</td>\n",
       "      <td>163242</td>\n",
       "      <td>【狗仔偷拍片】黑人風神開林寶堅尼　卻做了這事馬上道歉</td>\n",
       "    </tr>\n",
       "    <tr>\n",
       "      <th>38</th>\n",
       "      <td>副刊</td>\n",
       "      <td>70378</td>\n",
       "      <td>【怒吃片】好市多這一腿好驚人　半年狂賣500萬支</td>\n",
       "    </tr>\n",
       "    <tr>\n",
       "      <th>42</th>\n",
       "      <td>體育</td>\n",
       "      <td>800</td>\n",
       "      <td>阿公炸裂　羅斯成為最老季後賽開轟捕手</td>\n",
       "    </tr>\n",
       "    <tr>\n",
       "      <th>47</th>\n",
       "      <td>政治</td>\n",
       "      <td>4858</td>\n",
       "      <td>【國共論壇】​洪秀柱11月赴北京　國民黨：洪習會規劃中</td>\n",
       "    </tr>\n",
       "    <tr>\n",
       "      <th>51</th>\n",
       "      <td>地產</td>\n",
       "      <td>1187</td>\n",
       "      <td>破盤價不夠看　首購案再出招</td>\n",
       "    </tr>\n",
       "    <tr>\n",
       "      <th>56</th>\n",
       "      <td>社會</td>\n",
       "      <td>384651</td>\n",
       "      <td>【荒唐片】景文迎新比酒店還狂　校方將送性平會</td>\n",
       "    </tr>\n",
       "    <tr>\n",
       "      <th>57</th>\n",
       "      <td>國際</td>\n",
       "      <td>3388</td>\n",
       "      <td>「她正在自慰」 羅斯被控性侵稱對方主動勾引</td>\n",
       "    </tr>\n",
       "  </tbody>\n",
       "</table>\n",
       "</div>"
      ],
      "text/plain": [
       "   category  clicked                        title\n",
       "5        時尚      107        懷胎6月能愛美嗎？ 勇樣老婆示範YSL彩妝\n",
       "16       財經     7985    【看片已羨慕】升官還給1個月假　這家公司員工好幸福\n",
       "24       生活    65661            陳彥伯偷吃骨感妹後　元配公開這樣做\n",
       "29       娛樂   163242   【狗仔偷拍片】黑人風神開林寶堅尼　卻做了這事馬上道歉\n",
       "30       娛樂   163242   【狗仔偷拍片】黑人風神開林寶堅尼　卻做了這事馬上道歉\n",
       "38       副刊    70378     【怒吃片】好市多這一腿好驚人　半年狂賣500萬支\n",
       "42       體育      800           阿公炸裂　羅斯成為最老季後賽開轟捕手\n",
       "47       政治     4858  【國共論壇】​洪秀柱11月赴北京　國民黨：洪習會規劃中\n",
       "51       地產     1187                破盤價不夠看　首購案再出招\n",
       "56       社會   384651       【荒唐片】景文迎新比酒店還狂　校方將送性平會\n",
       "57       國際     3388        「她正在自慰」 羅斯被控性侵稱對方主動勾引"
      ]
     },
     "execution_count": 29,
     "metadata": {},
     "output_type": "execute_result"
    }
   ],
   "source": [
    "# 根據每個類別產生該類別最人氣點擊數\n",
    "idx = newsdf.groupby(['category'])['clicked'].transform(max)==newsdf['clicked']\n",
    "newsdf[idx][['category', 'clicked', 'title']]"
   ]
  },
  {
   "cell_type": "code",
   "execution_count": 30,
   "metadata": {
    "collapsed": false
   },
   "outputs": [
    {
     "data": {
      "text/plain": [
       "category\n",
       "社會    402848\n",
       "娛樂    330736\n",
       "生活     75947\n",
       "副刊     70378\n",
       "財經     14200\n",
       "國際      6842\n",
       "政治      6637\n",
       "體育      2748\n",
       "地產      1458\n",
       "時尚       107\n",
       "Name: clicked, dtype: int64"
      ]
     },
     "execution_count": 30,
     "metadata": {},
     "output_type": "execute_result"
    }
   ],
   "source": [
    "# select category, sum(clicked) from newsdf order by sum(clicked) desc\n",
    "newsdf.groupby(['category'])['clicked'].sum().sort_values(ascending=False)"
   ]
  },
  {
   "cell_type": "code",
   "execution_count": 31,
   "metadata": {
    "collapsed": false
   },
   "outputs": [
    {
     "data": {
      "text/plain": [
       "category\n",
       "娛樂    82684.000000\n",
       "副刊    70378.000000\n",
       "社會    28774.857143\n",
       "生活     5424.785714\n",
       "財經     2366.666667\n",
       "政治     1327.400000\n",
       "國際     1140.333333\n",
       "地產      729.000000\n",
       "體育      392.571429\n",
       "時尚      107.000000\n",
       "Name: clicked, dtype: float64"
      ]
     },
     "execution_count": 31,
     "metadata": {},
     "output_type": "execute_result"
    }
   ],
   "source": [
    "# select category, avg(clicked) from newsdf order by sum(clicked) desc\n",
    "newsdf.groupby(['category'])['clicked'].mean().sort_values(ascending=False)"
   ]
  },
  {
   "cell_type": "markdown",
   "metadata": {},
   "source": [
    "## 使用Pandas 繪圖"
   ]
  },
  {
   "cell_type": "code",
   "execution_count": 33,
   "metadata": {
    "collapsed": false
   },
   "outputs": [
    {
     "name": "stdout",
     "output_type": "stream",
     "text": [
      "Populating the interactive namespace from numpy and matplotlib\n"
     ]
    },
    {
     "data": {
      "text/plain": [
       "<matplotlib.axes._subplots.AxesSubplot at 0x92b0780>"
      ]
     },
     "execution_count": 33,
     "metadata": {},
     "output_type": "execute_result"
    },
    {
     "data": {
      "image/png": "[encoded data removed]",
      "text/plain": [
       "<matplotlib.figure.Figure at 0x72d7cf8>"
      ]
     },
     "metadata": {},
     "output_type": "display_data"
    }
   ],
   "source": [
    "%pylab inline\n",
    "sorteddf = newsdf.groupby(['category'])['clicked'].mean().sort_values(ascending=False)\n",
    "sorteddf.plot(kind='pie', figsize=[10,10])"
   ]
  },
  {
   "cell_type": "markdown",
   "metadata": {},
   "source": [
    "## 如何讓matplotlib 顯示中文"
   ]
  },
  {
   "cell_type": "markdown",
   "metadata": {},
   "source": [
    "1. 先到 C:\\Anaconda3\\Lib\\site-packages\\matplotlib\\mpl-data\n",
    "2. 修改 matplotlibrc\n",
    "3. font.family 前面的 # 拿掉\n",
    "4. font.sans-serif 前面加上 Microsoft YaHei,\n",
    "5. 要重啟 Jupyter notebook"
   ]
  },
  {
   "cell_type": "markdown",
   "metadata": {},
   "source": [
    "## 寫入Excel"
   ]
  },
  {
   "cell_type": "code",
   "execution_count": 35,
   "metadata": {
    "collapsed": false
   },
   "outputs": [],
   "source": [
    "newsdf.to_excel('news.xlsx')"
   ]
  },
  {
   "cell_type": "markdown",
   "metadata": {},
   "source": [
    "## 從Excel 讀入資料"
   ]
  },
  {
   "cell_type": "code",
   "execution_count": 36,
   "metadata": {
    "collapsed": false
   },
   "outputs": [
    {
     "data": {
      "text/html": [
       "<div>\n",
       "<table border=\"1\" class=\"dataframe\">\n",
       "  <thead>\n",
       "    <tr style=\"text-align: right;\">\n",
       "      <th></th>\n",
       "      <th>category</th>\n",
       "      <th>clicked</th>\n",
       "      <th>dt</th>\n",
       "      <th>link</th>\n",
       "      <th>summary</th>\n",
       "      <th>title</th>\n",
       "    </tr>\n",
       "  </thead>\n",
       "  <tbody>\n",
       "    <tr>\n",
       "      <th>0</th>\n",
       "      <td>社會</td>\n",
       "      <td>0</td>\n",
       "      <td>2016-10-12 11:39:00</td>\n",
       "      <td>http://www.appledaily.com.tw/realtimenews/arti...</td>\n",
       "      <td>法網難逃！新北市八里區一名毒品通緝犯，上週六騎在外閒晃，見巡邏警本欲逃跑，卻遭警追前攔下盤查...</td>\n",
       "      <td>遇警盤查催油落跑　騎士見義勇為撞阻逮犯</td>\n",
       "    </tr>\n",
       "    <tr>\n",
       "      <th>1</th>\n",
       "      <td>國際</td>\n",
       "      <td>0</td>\n",
       "      <td>2016-10-12 11:39:00</td>\n",
       "      <td>http://www.appledaily.com.tw/realtimenews/arti...</td>\n",
       "      <td>共和黨總統候選人川普11年前的低級言論在全美發酵，掀起一陣輿論撻伐，連同黨黨內大老萊恩都表明...</td>\n",
       "      <td>又秀下限？川普新廣告攻擊希拉蕊健康惹議</td>\n",
       "    </tr>\n",
       "    <tr>\n",
       "      <th>2</th>\n",
       "      <td>體育</td>\n",
       "      <td>0</td>\n",
       "      <td>2016-10-12 11:38:00</td>\n",
       "      <td>http://www.appledaily.com.tw/realtimenews/arti...</td>\n",
       "      <td>76人3年級射手史陶斯卡斯( Nik Stauskas)，今年9月起再度尋求運動心理師的幫助...</td>\n",
       "      <td>76人史陶斯卡斯看心理師　強化外界負評忍受力</td>\n",
       "    </tr>\n",
       "    <tr>\n",
       "      <th>3</th>\n",
       "      <td>體育</td>\n",
       "      <td>0</td>\n",
       "      <td>2016-10-12 11:36:00</td>\n",
       "      <td>http://www.appledaily.com.tw/realtimenews/arti...</td>\n",
       "      <td>為什麼選擇「洗腳」表達孝親？全國體育總會會長張朝國說：「當初是因緣際會，有位修道的大師向我提...</td>\n",
       "      <td>洗腳體會長輩艱辛路　國外也有類似儀式</td>\n",
       "    </tr>\n",
       "    <tr>\n",
       "      <th>4</th>\n",
       "      <td>社會</td>\n",
       "      <td>137</td>\n",
       "      <td>2016-10-12 11:35:00</td>\n",
       "      <td>http://www.appledaily.com.tw/realtimenews/arti...</td>\n",
       "      <td>新政府上台後，行政院將轟動一時的太陽花學運及323佔領行政院被起訴的126人撤告，國民黨籍立...</td>\n",
       "      <td>林全撤告太陽花學運　遭陳學聖控圖利</td>\n",
       "    </tr>\n",
       "  </tbody>\n",
       "</table>\n",
       "</div>"
      ],
      "text/plain": [
       "  category  clicked                  dt  \\\n",
       "0       社會        0 2016-10-12 11:39:00   \n",
       "1       國際        0 2016-10-12 11:39:00   \n",
       "2       體育        0 2016-10-12 11:38:00   \n",
       "3       體育        0 2016-10-12 11:36:00   \n",
       "4       社會      137 2016-10-12 11:35:00   \n",
       "\n",
       "                                                link  \\\n",
       "0  http://www.appledaily.com.tw/realtimenews/arti...   \n",
       "1  http://www.appledaily.com.tw/realtimenews/arti...   \n",
       "2  http://www.appledaily.com.tw/realtimenews/arti...   \n",
       "3  http://www.appledaily.com.tw/realtimenews/arti...   \n",
       "4  http://www.appledaily.com.tw/realtimenews/arti...   \n",
       "\n",
       "                                             summary                   title  \n",
       "0  法網難逃！新北市八里區一名毒品通緝犯，上週六騎在外閒晃，見巡邏警本欲逃跑，卻遭警追前攔下盤查...     遇警盤查催油落跑　騎士見義勇為撞阻逮犯  \n",
       "1  共和黨總統候選人川普11年前的低級言論在全美發酵，掀起一陣輿論撻伐，連同黨黨內大老萊恩都表明...     又秀下限？川普新廣告攻擊希拉蕊健康惹議  \n",
       "2  76人3年級射手史陶斯卡斯( Nik Stauskas)，今年9月起再度尋求運動心理師的幫助...  76人史陶斯卡斯看心理師　強化外界負評忍受力  \n",
       "3  為什麼選擇「洗腳」表達孝親？全國體育總會會長張朝國說：「當初是因緣際會，有位修道的大師向我提...      洗腳體會長輩艱辛路　國外也有類似儀式  \n",
       "4  新政府上台後，行政院將轟動一時的太陽花學運及323佔領行政院被起訴的126人撤告，國民黨籍立...       林全撤告太陽花學運　遭陳學聖控圖利  "
      ]
     },
     "execution_count": 36,
     "metadata": {},
     "output_type": "execute_result"
    }
   ],
   "source": [
    "import pandas\n",
    "df2 = pandas.read_excel('news.xlsx')\n",
    "df2.head()"
   ]
  },
  {
   "cell_type": "code",
   "execution_count": null,
   "metadata": {
    "collapsed": true
   },
   "outputs": [],
   "source": [
    "import pandas.io.data as web\n",
    "tw2330 = web.DataReader('2330.TW',  data_source='yahoo')\n",
    "tw2330.tail()"
   ]
  },
  {
   "cell_type": "markdown",
   "metadata": {},
   "source": [
    "## 使用python 連結SQLite"
   ]
  },
  {
   "cell_type": "code",
   "execution_count": 39,
   "metadata": {
    "collapsed": false
   },
   "outputs": [
    {
     "name": "stdout",
     "output_type": "stream",
     "text": [
      "('3.8.11',)\n"
     ]
    }
   ],
   "source": [
    "import sqlite3 as lite\n",
    "\n",
    "# 連線到資料庫\n",
    "con = lite.connect('test.sqlite')\n",
    "\n",
    "# 建立游標操作資料庫\n",
    "cur = con.cursor()\n",
    "cur.execute('SELECT SQLITE_VERSION()')\n",
    "\n",
    "# 透由游標取得資料\n",
    "data = cur.fetchone()\n",
    "print(data)\n",
    "\n",
    "# 關閉資料庫連線\n",
    "con.close()"
   ]
  },
  {
   "cell_type": "code",
   "execution_count": 40,
   "metadata": {
    "collapsed": false
   },
   "outputs": [
    {
     "name": "stdout",
     "output_type": "stream",
     "text": [
      "('3.8.11',)\n"
     ]
    }
   ],
   "source": [
    "import sqlite3 as lite\n",
    "\n",
    "# 連線到資料庫，操作完以後，自動關閉\n",
    "with lite.connect('test.sqlite') as con:\n",
    "\n",
    "    # 建立游標操作資料庫\n",
    "    cur = con.cursor()\n",
    "    cur.execute('SELECT SQLITE_VERSION()')\n",
    "\n",
    "    # 透由游標取得資料\n",
    "    data = cur.fetchone()\n",
    "    print(data)\n"
   ]
  },
  {
   "cell_type": "markdown",
   "metadata": {},
   "source": [
    "## 完整SQLITE 操作"
   ]
  },
  {
   "cell_type": "code",
   "execution_count": 43,
   "metadata": {
    "collapsed": false
   },
   "outputs": [
    {
     "name": "stdout",
     "output_type": "stream",
     "text": [
      "('0912173381', 'United State')\n",
      "('0928375018', 'Tokyo Japan')\n",
      "('0957209108', 'Taipei')\n"
     ]
    }
   ],
   "source": [
    "# 連線到資料庫，操作完以後，自動關閉\n",
    "with lite.connect('test.sqlite') as con:\n",
    "\n",
    "    # 建立游標操作資料庫\n",
    "    cur = con.cursor()\n",
    "    \n",
    "    # 捨棄已存在表格\n",
    "    cur.execute(\"DROP TABLE IF EXISTS PhoneAddress\")\n",
    "    \n",
    "    # 使用create 建立表格\n",
    "    cur.execute(\"\"\"CREATE TABLE PhoneAddress(\n",
    "                    phone   CHAR(10) PRIMARY KEY, \n",
    "                    address TEXT, \n",
    "                    name    TEXT unique,\n",
    "                    age     INT NOT NULL\n",
    "                    )\"\"\")\n",
    "    \n",
    "    # 使用insert 語句新增資料\n",
    "    cur.execute(\"INSERT INTO PhoneAddress VALUES('0912173381','United State','JhonDoe',53)\")\n",
    "    cur.execute(\"INSERT INTO PhoneAddress VALUES('0928375018','Tokyo Japan' ,'MuMuCat',6 )\")\n",
    "    cur.execute(\"INSERT INTO PhoneAddress VALUES('0957209108','Taipei'      ,'Richard',29)\")\n",
    "    \n",
    "    # 使用SELECT 取得資料\n",
    "    cur.execute(\"SELECT phone,address FROM PhoneAddress\")\n",
    "    \n",
    "    # 使用fetchall 取得 SElECT 後的所有資料\n",
    "    data = cur.fetchall()\n",
    "    for rec in data:\n",
    "        print(rec)\n",
    "\n"
   ]
  },
  {
   "cell_type": "code",
   "execution_count": 46,
   "metadata": {
    "collapsed": false
   },
   "outputs": [
    {
     "name": "stdout",
     "output_type": "stream",
     "text": [
      "('0912173381', 'United State')\n",
      "=================================\n",
      "('0928375018', 'Tokyo Japan')\n",
      "('0957209108', 'Taipei')\n"
     ]
    }
   ],
   "source": [
    "# 連線到資料庫，操作完以後，自動關閉\n",
    "with lite.connect('test.sqlite') as con:\n",
    "\n",
    "    # 建立游標操作資料庫\n",
    "    cur = con.cursor()\n",
    "    \n",
    "    # 使用SELECT 取得資料\n",
    "    cur.execute(\"SELECT phone,address FROM PhoneAddress\")\n",
    "    \n",
    "    # 使用fetchall 取得 SElECT 後的第一筆資料\n",
    "    data = cur.fetchone()\n",
    "    print(data)\n",
    "\n",
    "    print('=================================')\n",
    "    \n",
    "    # 使用fetchall 取得 SElECT 後的所有資料\n",
    "    data = cur.fetchall()\n",
    "    for rec in data:\n",
    "        print(rec)"
   ]
  },
  {
   "cell_type": "markdown",
   "metadata": {},
   "source": [
    "## 將新聞資料儲存至資料庫 (比較複雜的方法)"
   ]
  },
  {
   "cell_type": "markdown",
   "metadata": {},
   "source": [
    "### 建立news 資料庫與資料表"
   ]
  },
  {
   "cell_type": "code",
   "execution_count": 77,
   "metadata": {
    "collapsed": true
   },
   "outputs": [],
   "source": [
    "# 連線到資料庫，操作完以後，自動關閉\n",
    "with lite.connect('news.sqlite') as con:\n",
    "\n",
    "    # 建立游標操作資料庫\n",
    "    cur = con.cursor()\n",
    "    \n",
    "    # 捨棄已存在表格\n",
    "    cur.execute(\"DROP TABLE IF EXISTS news\")\n",
    "    \n",
    "    # 使用create 建立表格\n",
    "    cur.execute(\"\"\"CREATE TABLE news(\n",
    "                    link     CHAR(1000),      \n",
    "                    title    CHAR(100), \n",
    "                    summary  TEXT, \n",
    "                    category CHAR(100), \n",
    "                    dt       DATETIME,\n",
    "                    clicked  INT \n",
    "                    )\"\"\")"
   ]
  },
  {
   "cell_type": "markdown",
   "metadata": {},
   "source": [
    "### 建立SQL Statement , 將資料插入到資料表中"
   ]
  },
  {
   "cell_type": "code",
   "execution_count": 78,
   "metadata": {
    "collapsed": false
   },
   "outputs": [],
   "source": [
    "# sample sql\n",
    "# INSERT INTO news(category,summary,clicked,title,link,dt) \n",
    "#    VALUES(?,?,?,?,?,?)\n",
    "insert_sql = 'INSERT INTO news({}) VALUES({})'\n",
    "\n",
    "# 連線到資料庫，操作完以後，自動關閉\n",
    "with lite.connect('news.sqlite') as con:\n",
    "\n",
    "    # 建立游標操作資料庫\n",
    "    cur = con.cursor()\n",
    "    \n",
    "    for news in newsary:\n",
    "        columns      = ','.join(news.keys())\n",
    "        placeholders = ','.join('?' * len(news.keys()))\n",
    "        sql_stmt     = insert_sql.format(columns, placeholders)\n",
    "        cur.execute(sql_stmt, list(news.values()))"
   ]
  },
  {
   "cell_type": "markdown",
   "metadata": {},
   "source": [
    "### 使用Select 語句查詢資料庫內的內容"
   ]
  },
  {
   "cell_type": "code",
   "execution_count": 79,
   "metadata": {
    "collapsed": false
   },
   "outputs": [
    {
     "name": "stdout",
     "output_type": "stream",
     "text": [
      "('http://www.appledaily.com.tw/realtimenews/article/local/20161012/966448/遇警盤查催油落跑\\u3000騎士見義勇為撞阻逮犯', '遇警盤查催油落跑\\u3000騎士見義勇為撞阻逮犯', '法網難逃！新北市八里區一名毒品通緝犯，上週六騎在外閒晃，見巡邏警本欲逃跑，卻遭警追前攔下盤查。未料，警正要以小電腦盤查身分，男子卻丟了一句「駕照在我家裡」隨即坐上機車催門逃逸。警從後追捕近百公尺，所幸路上騎士見義勇為，衝前將嫌撞倒順利逮捕。警方調查，毒品通緝犯張男(50歲)，因毒品案未入監服刑，遭新竹法院發布通緝，便北上四處打零工維生，逃避警方追緝。上週六下午近5時許，張男騎車在八里區路上閒逛，行經中山路二段時，正巧碰上蘆洲警分局八里分駐所警員侯劍鵬巡經此路，張男卻刻意放慢車速在後，這讓侯員覺得奇怪，對張男招手示意停車攔查。警方說，盤查過程警問：「駕照證件看一下」但黃男神色卻顯緊張吞吐回應：「我身上沒帶任何證件，必須回家拿身分證」話才說完，黃男突坐上機車，加速催油往前逃奔，侯員見狀從後鳴笛緊追，雙方追逐近百公尺遠，侯員趁機從後一把將黃男拉下，黃男瞬間倒地爬起，拼命掙扎並與警在路口扭打，過程中不斷叫著「就跟你說要回家拿嗎」。此時，一名路過騎士經過，用機車撞倒黃男，一旁路人看見也協助幫警，順利逮捕黃男到案。（突發中心曾伯愷／新北報導）\\xa0', '社會', '2016-10-12 11:39:00', 0)\n"
     ]
    }
   ],
   "source": [
    "# 連線到資料庫，操作完以後，自動關閉\n",
    "with lite.connect('news.sqlite') as con:\n",
    "    # 建立游標操作資料庫\n",
    "    cur = con.cursor()\n",
    "    cur.execute('SELECT * FROM news')\n",
    "    data = cur.fetchone()\n",
    "    print(data)"
   ]
  },
  {
   "cell_type": "markdown",
   "metadata": {},
   "source": [
    "## 合併 List 成字串的方法"
   ]
  },
  {
   "cell_type": "code",
   "execution_count": 51,
   "metadata": {
    "collapsed": false
   },
   "outputs": [
    {
     "data": {
      "text/plain": [
       "'a,b,c,d,e'"
      ]
     },
     "execution_count": 51,
     "metadata": {},
     "output_type": "execute_result"
    }
   ],
   "source": [
    "a = ['a', 'b', 'c', 'd', 'e']\n",
    "','.join(a)"
   ]
  },
  {
   "cell_type": "code",
   "execution_count": 55,
   "metadata": {
    "collapsed": false
   },
   "outputs": [
    {
     "data": {
      "text/plain": [
       "'?,?,?,?,?,?'"
      ]
     },
     "execution_count": 55,
     "metadata": {},
     "output_type": "execute_result"
    }
   ],
   "source": [
    "','.join('?' * 6)"
   ]
  }
 ],
 "metadata": {
  "anaconda-cloud": {},
  "kernelspec": {
   "display_name": "Python [Root]",
   "language": "python",
   "name": "Python [Root]"
  },
  "language_info": {
   "codemirror_mode": {
    "name": "ipython",
    "version": 3
   },
   "file_extension": ".py",
   "mimetype": "text/x-python",
   "name": "python",
   "nbconvert_exporter": "python",
   "pygments_lexer": "ipython3",
   "version": "3.5.2"
  }
 },
 "nbformat": 4,
 "nbformat_minor": 0
}
